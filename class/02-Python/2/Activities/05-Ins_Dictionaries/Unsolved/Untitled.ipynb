{
 "cells": [
  {
   "cell_type": "code",
   "execution_count": 7,
   "metadata": {},
   "outputs": [],
   "source": [
    "cars = [{\n",
    "    \"make\":\"Honda\",\n",
    "    \"model\":\"Civic\",\n",
    "    \"year\":\"2016\",\n",
    "    \"color\":\"white\"\n",
    " \n",
    "},{\n",
    "    \"make\":\"Toyota\",\n",
    "    \"model\":\"Corolla\",\n",
    "    \"year\":\"2016\",\n",
    "    \"color\":\"aubergine\"\n",
    "}]\n"
   ]
  },
  {
   "cell_type": "code",
   "execution_count": 3,
   "metadata": {},
   "outputs": [
    {
     "name": "stdout",
     "output_type": "stream",
     "text": [
      "{'make': 'Honda', 'model': 'Civic', 'year': '2016', 'color': 'white'}\n"
     ]
    }
   ],
   "source": [
    "print(car)"
   ]
  },
  {
   "cell_type": "code",
   "execution_count": 4,
   "metadata": {},
   "outputs": [
    {
     "data": {
      "text/plain": [
       "'Honda'"
      ]
     },
     "execution_count": 4,
     "metadata": {},
     "output_type": "execute_result"
    }
   ],
   "source": [
    "car[\"make\"]"
   ]
  },
  {
   "cell_type": "code",
   "execution_count": 6,
   "metadata": {},
   "outputs": [
    {
     "data": {
      "text/plain": [
       "'Toyota'"
      ]
     },
     "execution_count": 6,
     "metadata": {},
     "output_type": "execute_result"
    }
   ],
   "source": [
    "trash['make']"
   ]
  },
  {
   "cell_type": "code",
   "execution_count": 10,
   "metadata": {},
   "outputs": [
    {
     "data": {
      "text/plain": [
       "'Toyota'"
      ]
     },
     "execution_count": 10,
     "metadata": {},
     "output_type": "execute_result"
    }
   ],
   "source": [
    "cars[1]['make']"
   ]
  },
  {
   "cell_type": "code",
   "execution_count": 26,
   "metadata": {},
   "outputs": [],
   "source": [
    "# Initialize a dictionary\n",
    "trading_pnl = {\n",
    "    \"title\": \"Trading Log\",\n",
    "    \"03-18-2019\": -224,\n",
    "    \"03-19-2019\": 352,\n",
    "    \"03-20-2019\": 252,\n",
    "    \"03-21-2019\": 354,\n",
    "    \"03-22-2019\": -544,\n",
    "    \"03-23-2019\": -650,\n",
    "    \"03-24-2019\": 56,\n",
    "    \"03-25-2019\": 123,\n",
    "    \"03-26-2019\": -43,\n",
    "    \"03-27-2019\": 254,\n",
    "    \"03-28-2019\": 325,\n",
    "    \"03-29-2019\": -123,\n",
    "    \"03-30-2019\": 47,\n",
    "    \"03-31-2019\": 321,\n",
    "    \"04-01-2019\": 123,\n",
    "    \"04-02-2019\": 133,\n",
    "    \"04-03-2019\": -151,\n",
    "    \"04-04-2019\": 613,\n",
    "    \"04-05-2019\": 232,\n",
    "    \"04-06-2019\": -311\n",
    "}"
   ]
  },
  {
   "cell_type": "code",
   "execution_count": 15,
   "metadata": {},
   "outputs": [
    {
     "name": "stdout",
     "output_type": "stream",
     "text": [
      "{'title': 'Trading Log', '03-19-2019': 352, '03-20-2019': 252, '03-21-2019': 354, '03-22-2019': -544, '03-23-2019': -650, '03-24-2019': 56, '03-25-2019': 123, '03-26-2019': -43, '03-27-2019': 254, '03-28-2019': 325, '03-29-2019': -123, '03-30-2019': 47, '03-31-2019': 321, '04-01-2019': 123, '04-02-2019': 133, '04-03-2019': -151, '04-04-2019': 613, '04-05-2019': 232, '04-06-2019': -311}\n"
     ]
    }
   ],
   "source": [
    "print(trading_pnl)"
   ]
  },
  {
   "cell_type": "code",
   "execution_count": 13,
   "metadata": {},
   "outputs": [
    {
     "data": {
      "text/plain": [
       "-311"
      ]
     },
     "execution_count": 13,
     "metadata": {},
     "output_type": "execute_result"
    }
   ],
   "source": [
    "trading_pnl[\"04-06-2019\"]"
   ]
  },
  {
   "cell_type": "code",
   "execution_count": 14,
   "metadata": {},
   "outputs": [],
   "source": [
    "del trading_pnl[\"03-18-2019\"]"
   ]
  },
  {
   "cell_type": "code",
   "execution_count": 18,
   "metadata": {},
   "outputs": [],
   "source": [
    "if \"03-40-2019\" in trading_pnl:\n",
    "    print(\"wasn't expecting that, yea\")"
   ]
  },
  {
   "cell_type": "code",
   "execution_count": 25,
   "metadata": {},
   "outputs": [
    {
     "name": "stdout",
     "output_type": "stream",
     "text": [
      "title Trading Log\n",
      "03-19-2019 352\n",
      "03-20-2019 252\n",
      "03-21-2019 354\n",
      "03-22-2019 -544\n",
      "03-23-2019 -650\n",
      "03-24-2019 56\n",
      "03-25-2019 123\n",
      "03-26-2019 -43\n",
      "03-27-2019 254\n",
      "03-28-2019 325\n",
      "03-29-2019 -123\n",
      "03-30-2019 47\n",
      "03-31-2019 321\n",
      "04-01-2019 123\n",
      "04-02-2019 133\n",
      "04-03-2019 -151\n",
      "04-04-2019 613\n",
      "04-05-2019 232\n",
      "04-06-2019 -311\n"
     ]
    }
   ],
   "source": [
    "for key, value in trading_pnl.items():\n",
    "    print(key, value)"
   ]
  },
  {
   "cell_type": "code",
   "execution_count": null,
   "metadata": {},
   "outputs": [],
   "source": []
  }
 ],
 "metadata": {
  "kernelspec": {
   "display_name": "Python 3",
   "language": "python",
   "name": "python3"
  },
  "language_info": {
   "codemirror_mode": {
    "name": "ipython",
    "version": 3
   },
   "file_extension": ".py",
   "mimetype": "text/x-python",
   "name": "python",
   "nbconvert_exporter": "python",
   "pygments_lexer": "ipython3",
   "version": "3.7.1"
  }
 },
 "nbformat": 4,
 "nbformat_minor": 2
}
