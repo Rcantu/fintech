{
 "cells": [
  {
   "cell_type": "code",
   "execution_count": 5,
   "metadata": {},
   "outputs": [],
   "source": [
    "import random"
   ]
  },
  {
   "cell_type": "code",
   "execution_count": 6,
   "metadata": {},
   "outputs": [],
   "source": [
    "options = [\"r\", \"p\", \"s\"]"
   ]
  },
  {
   "cell_type": "code",
   "execution_count": 23,
   "metadata": {},
   "outputs": [],
   "source": [
    "def decide_winner(user_choice, computer_choice):\n",
    "    print(user_choice, computer_choice)\n",
    "    \n",
    "    if user_choice == computer_choice:\n",
    "        return \"tie\"\n",
    "        \n",
    "    elif user_choice == \"r\":\n",
    "        if computer_choice== \"s\":\n",
    "                return \"win\"\n",
    "        if computer_choice== \"p\":\n",
    "                return \"loss\"\n",
    "\n",
    "    elif user_choice == \"s\":\n",
    "        if computer_choice== \"p\":\n",
    "                return \"win\"\n",
    "        if computer_choice== \"r\":\n",
    "                return \"loss\"\n",
    "\n",
    "    elif user_choice == \"p\":\n",
    "        if computer_choice == \"s\":\n",
    "                return \"loss\"\n",
    "        if computer_choice== \"r\":\n",
    "                return \"win\"\n",
    "    else:\n",
    "        print(\"please give valid input\")"
   ]
  },
  {
   "cell_type": "code",
   "execution_count": 29,
   "metadata": {},
   "outputs": [
    {
     "name": "stdout",
     "output_type": "stream",
     "text": [
      "Let's Play Rock Paper Scissors!\n"
     ]
    },
    {
     "name": "stdin",
     "output_type": "stream",
     "text": [
      "Make your Choice: (r)ock, (p)aper, (s)cissors?  p\n"
     ]
    },
    {
     "name": "stdout",
     "output_type": "stream",
     "text": [
      "p p\n"
     ]
    },
    {
     "name": "stdin",
     "output_type": "stream",
     "text": [
      "Make your Choice: (r)ock, (p)aper, (s)cissors?  r\n"
     ]
    },
    {
     "name": "stdout",
     "output_type": "stream",
     "text": [
      "r p\n",
      "loss\n"
     ]
    }
   ],
   "source": [
    "print(\"Let's Play Rock Paper Scissors!\")\n",
    "\n",
    "\n",
    "computer = random.choice(options)\n",
    "user = input(\"Make your Choice: (r)ock, (p)aper, (s)cissors? \")\n",
    "\n",
    "result = decide_winner(user, computer)\n",
    "if result == \"tie\":\n",
    "    computer = random.choice(options)\n",
    "    user = input(\"Make your Choice: (r)ock, (p)aper, (s)cissors? \")\n",
    "    result = decide_winner(user, computer)\n",
    "print(result)"
   ]
  },
  {
   "cell_type": "code",
   "execution_count": null,
   "metadata": {},
   "outputs": [],
   "source": [
    "p"
   ]
  }
 ],
 "metadata": {
  "kernelspec": {
   "display_name": "Python 3",
   "language": "python",
   "name": "python3"
  },
  "language_info": {
   "codemirror_mode": {
    "name": "ipython",
    "version": 3
   },
   "file_extension": ".py",
   "mimetype": "text/x-python",
   "name": "python",
   "nbconvert_exporter": "python",
   "pygments_lexer": "ipython3",
   "version": "3.7.1"
  }
 },
 "nbformat": 4,
 "nbformat_minor": 2
}
