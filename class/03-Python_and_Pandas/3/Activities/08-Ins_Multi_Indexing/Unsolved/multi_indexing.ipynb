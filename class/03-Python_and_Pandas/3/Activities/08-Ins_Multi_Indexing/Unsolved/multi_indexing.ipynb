{
 "cells": [
  {
   "cell_type": "code",
   "execution_count": 1,
   "metadata": {},
   "outputs": [],
   "source": [
    "import pandas as pd\n",
    "from pathlib import Path"
   ]
  },
  {
   "cell_type": "markdown",
   "metadata": {},
   "source": [
    "### Read in data and set index"
   ]
  },
  {
   "cell_type": "code",
   "execution_count": 2,
   "metadata": {},
   "outputs": [
    {
     "data": {
      "text/html": [
       "<div>\n",
       "<style scoped>\n",
       "    .dataframe tbody tr th:only-of-type {\n",
       "        vertical-align: middle;\n",
       "    }\n",
       "\n",
       "    .dataframe tbody tr th {\n",
       "        vertical-align: top;\n",
       "    }\n",
       "\n",
       "    .dataframe thead th {\n",
       "        text-align: right;\n",
       "    }\n",
       "</style>\n",
       "<table border=\"1\" class=\"dataframe\">\n",
       "  <thead>\n",
       "    <tr style=\"text-align: right;\">\n",
       "      <th></th>\n",
       "      <th>Ticker</th>\n",
       "      <th>Open</th>\n",
       "      <th>High</th>\n",
       "      <th>Low</th>\n",
       "      <th>Close</th>\n",
       "      <th>Adj Close</th>\n",
       "      <th>Volume</th>\n",
       "    </tr>\n",
       "    <tr>\n",
       "      <th>Date</th>\n",
       "      <th></th>\n",
       "      <th></th>\n",
       "      <th></th>\n",
       "      <th></th>\n",
       "      <th></th>\n",
       "      <th></th>\n",
       "      <th></th>\n",
       "    </tr>\n",
       "  </thead>\n",
       "  <tbody>\n",
       "    <tr>\n",
       "      <th>2019-04-09</th>\n",
       "      <td>TWTR</td>\n",
       "      <td>34.840000</td>\n",
       "      <td>35.389999</td>\n",
       "      <td>34.810001</td>\n",
       "      <td>35.139999</td>\n",
       "      <td>35.139999</td>\n",
       "      <td>13889700</td>\n",
       "    </tr>\n",
       "    <tr>\n",
       "      <th>2019-04-10</th>\n",
       "      <td>TWTR</td>\n",
       "      <td>35.259998</td>\n",
       "      <td>35.270000</td>\n",
       "      <td>34.509998</td>\n",
       "      <td>34.750000</td>\n",
       "      <td>34.750000</td>\n",
       "      <td>11648800</td>\n",
       "    </tr>\n",
       "    <tr>\n",
       "      <th>2019-04-11</th>\n",
       "      <td>TWTR</td>\n",
       "      <td>34.750000</td>\n",
       "      <td>34.869999</td>\n",
       "      <td>34.410000</td>\n",
       "      <td>34.580002</td>\n",
       "      <td>34.580002</td>\n",
       "      <td>10982700</td>\n",
       "    </tr>\n",
       "    <tr>\n",
       "      <th>2019-04-12</th>\n",
       "      <td>TWTR</td>\n",
       "      <td>34.669998</td>\n",
       "      <td>34.830002</td>\n",
       "      <td>34.110001</td>\n",
       "      <td>34.369999</td>\n",
       "      <td>34.369999</td>\n",
       "      <td>12713800</td>\n",
       "    </tr>\n",
       "    <tr>\n",
       "      <th>2019-04-15</th>\n",
       "      <td>TWTR</td>\n",
       "      <td>34.380001</td>\n",
       "      <td>35.029999</td>\n",
       "      <td>34.340000</td>\n",
       "      <td>34.709999</td>\n",
       "      <td>34.709999</td>\n",
       "      <td>10248400</td>\n",
       "    </tr>\n",
       "  </tbody>\n",
       "</table>\n",
       "</div>"
      ],
      "text/plain": [
       "           Ticker       Open       High        Low      Close  Adj Close  \\\n",
       "Date                                                                       \n",
       "2019-04-09   TWTR  34.840000  35.389999  34.810001  35.139999  35.139999   \n",
       "2019-04-10   TWTR  35.259998  35.270000  34.509998  34.750000  34.750000   \n",
       "2019-04-11   TWTR  34.750000  34.869999  34.410000  34.580002  34.580002   \n",
       "2019-04-12   TWTR  34.669998  34.830002  34.110001  34.369999  34.369999   \n",
       "2019-04-15   TWTR  34.380001  35.029999  34.340000  34.709999  34.709999   \n",
       "\n",
       "              Volume  \n",
       "Date                  \n",
       "2019-04-09  13889700  \n",
       "2019-04-10  11648800  \n",
       "2019-04-11  10982700  \n",
       "2019-04-12  12713800  \n",
       "2019-04-15  10248400  "
      ]
     },
     "execution_count": 2,
     "metadata": {},
     "output_type": "execute_result"
    }
   ],
   "source": [
    "# Read in data\n",
    "csv_path = Path(\"../Resources/stock_data_by_ticker.csv\")\n",
    "ticker_data = pd.read_csv(csv_path, \n",
    "                          parse_dates=True, \n",
    "                          index_col='Date', \n",
    "                          infer_datetime_format=True)\n",
    "ticker_data = ticker_data.dropna()\n",
    "ticker_data.head()"
   ]
  },
  {
   "cell_type": "code",
   "execution_count": 3,
   "metadata": {},
   "outputs": [],
   "source": [
    "# Output indexes\n"
   ]
  },
  {
   "cell_type": "markdown",
   "metadata": {},
   "source": [
    "### Create multiple indices by grouping by DatetimeIndex `year`, `month`, and `day` "
   ]
  },
  {
   "cell_type": "code",
   "execution_count": 4,
   "metadata": {},
   "outputs": [],
   "source": [
    "# Group by year, month, and day\n"
   ]
  },
  {
   "cell_type": "markdown",
   "metadata": {},
   "source": [
    "### Create multiple indices by goruping by DatetimeIndex year, month, and day with `mean` function"
   ]
  },
  {
   "cell_type": "code",
   "execution_count": 5,
   "metadata": {},
   "outputs": [],
   "source": [
    "# Group by year and month and calculate average\n"
   ]
  },
  {
   "cell_type": "markdown",
   "metadata": {},
   "source": [
    "### Slice data for 4/12/2019"
   ]
  },
  {
   "cell_type": "code",
   "execution_count": 6,
   "metadata": {},
   "outputs": [],
   "source": [
    "# Slice data for 4/12/2019 from first group\n"
   ]
  },
  {
   "cell_type": "markdown",
   "metadata": {},
   "source": [
    "### Slice data for all days in April 2019"
   ]
  },
  {
   "cell_type": "code",
   "execution_count": 7,
   "metadata": {},
   "outputs": [],
   "source": [
    "# Slice data for April 2019\n"
   ]
  },
  {
   "cell_type": "code",
   "execution_count": null,
   "metadata": {},
   "outputs": [],
   "source": []
  }
 ],
 "metadata": {
  "kernelspec": {
   "display_name": "Python 3",
   "language": "python",
   "name": "python3"
  },
  "language_info": {
   "codemirror_mode": {
    "name": "ipython",
    "version": 3
   },
   "file_extension": ".py",
   "mimetype": "text/x-python",
   "name": "python",
   "nbconvert_exporter": "python",
   "pygments_lexer": "ipython3",
   "version": "3.7.3"
  }
 },
 "nbformat": 4,
 "nbformat_minor": 2
}
