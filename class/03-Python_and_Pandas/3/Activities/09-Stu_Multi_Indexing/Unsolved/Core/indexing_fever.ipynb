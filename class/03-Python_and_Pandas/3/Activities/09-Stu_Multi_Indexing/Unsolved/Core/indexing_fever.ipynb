{
 "cells": [
  {
   "cell_type": "code",
   "execution_count": null,
   "metadata": {},
   "outputs": [],
   "source": [
    "import pandas as pd\n",
    "from pathlib import Path\n",
    "from datetime import datetime, date, timedelta"
   ]
  },
  {
   "cell_type": "code",
   "execution_count": null,
   "metadata": {},
   "outputs": [],
   "source": [
    "# Read csv data\n",
    "csv_path = Path(\"../../Resources/nasdaq_data.csv\")\n",
    "nasdaq_data = pd.read_csv(csv_path, parse_dates=True, index_col=\"Trade DATE\", infer_datetime_format=True)\n",
    "nasdaq_data.head()"
   ]
  },
  {
   "cell_type": "markdown",
   "metadata": {},
   "source": [
    "### Assess & Clean Data"
   ]
  },
  {
   "cell_type": "code",
   "execution_count": null,
   "metadata": {},
   "outputs": [],
   "source": [
    "# Drop unnecessary columns\n",
    "nasdaq_data = nasdaq_data.drop(columns='Symbol')\n",
    "\n",
    "# Check for nulls\n",
    "nasdaq_data.isnull().mean() * 100\n",
    "\n",
    "# Drop nulls\n",
    "nasdaq_data = nasdaq_data.dropna()\n",
    "\n",
    "# Drop duplicates\n",
    "nasdaq_data = nasdaq_data.drop_duplicates()\n",
    "\n",
    "# Validate no more missing values\n",
    "nasdaq_data.isnull().sum()"
   ]
  },
  {
   "cell_type": "markdown",
   "metadata": {},
   "source": [
    "### Group by year and date"
   ]
  },
  {
   "cell_type": "code",
   "execution_count": null,
   "metadata": {},
   "outputs": [],
   "source": []
  },
  {
   "cell_type": "markdown",
   "metadata": {},
   "source": [
    "### Access NOCP for May 2019 using multindexing lookup"
   ]
  },
  {
   "cell_type": "code",
   "execution_count": null,
   "metadata": {},
   "outputs": [],
   "source": []
  },
  {
   "cell_type": "markdown",
   "metadata": {},
   "source": [
    "### Look up GOOG closing price for 30 days ago using `timedelta` function."
   ]
  },
  {
   "cell_type": "code",
   "execution_count": null,
   "metadata": {},
   "outputs": [],
   "source": []
  }
 ],
 "metadata": {
  "kernelspec": {
   "display_name": "Python 3",
   "language": "python",
   "name": "python3"
  },
  "language_info": {
   "codemirror_mode": {
    "name": "ipython",
    "version": 3
   },
   "file_extension": ".py",
   "mimetype": "text/x-python",
   "name": "python",
   "nbconvert_exporter": "python",
   "pygments_lexer": "ipython3",
   "version": "3.7.3"
  }
 },
 "nbformat": 4,
 "nbformat_minor": 2
}
