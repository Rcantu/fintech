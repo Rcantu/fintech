{
 "cells": [
  {
   "cell_type": "markdown",
   "metadata": {},
   "source": [
    "# Group Dynamics!"
   ]
  },
  {
   "cell_type": "markdown",
   "metadata": {},
   "source": [
    "Remember those cryptos you purchased back in 2017? Well, they've made you some money! The market is a buzz with recent Cryptocurrency coin price increases. Bitcoin, Ethereum, Bitcoin-cash, Ripple, and Litecoin are doing particularly well! Since cryptos are in high demand again, perform a historical analysis to get a better understanding of crypto average, high, and low prices. Use this information to decide whether or not you should begin re-investing."
   ]
  },
  {
   "cell_type": "code",
   "execution_count": 2,
   "metadata": {},
   "outputs": [],
   "source": [
    "# Import Libraries\n",
    "import pandas as pd\n",
    "from pathlib import Path\n",
    "%matplotlib inline"
   ]
  },
  {
   "cell_type": "markdown",
   "metadata": {},
   "source": [
    "### Load CSV data into Pandas using `read_csv`, as well as arguments `index_col`, `parse_dates`, and `infer_datetime_format`"
   ]
  },
  {
   "cell_type": "code",
   "execution_count": 3,
   "metadata": {},
   "outputs": [
    {
     "data": {
      "text/html": [
       "<div>\n",
       "<style scoped>\n",
       "    .dataframe tbody tr th:only-of-type {\n",
       "        vertical-align: middle;\n",
       "    }\n",
       "\n",
       "    .dataframe tbody tr th {\n",
       "        vertical-align: top;\n",
       "    }\n",
       "\n",
       "    .dataframe thead th {\n",
       "        text-align: right;\n",
       "    }\n",
       "</style>\n",
       "<table border=\"1\" class=\"dataframe\">\n",
       "  <thead>\n",
       "    <tr style=\"text-align: right;\">\n",
       "      <th></th>\n",
       "      <th>cryptocurrency</th>\n",
       "      <th>data_priceUsd</th>\n",
       "      <th>data_time</th>\n",
       "      <th>timestamp</th>\n",
       "    </tr>\n",
       "    <tr>\n",
       "      <th>data_date</th>\n",
       "      <th></th>\n",
       "      <th></th>\n",
       "      <th></th>\n",
       "      <th></th>\n",
       "    </tr>\n",
       "  </thead>\n",
       "  <tbody>\n",
       "    <tr>\n",
       "      <th>2017-05-09</th>\n",
       "      <td>bitcoin</td>\n",
       "      <td>NaN</td>\n",
       "      <td>1.494288e+12</td>\n",
       "      <td>1.557285e+12</td>\n",
       "    </tr>\n",
       "    <tr>\n",
       "      <th>2017-05-10</th>\n",
       "      <td>bitcoin</td>\n",
       "      <td>1743.723523</td>\n",
       "      <td>1.494374e+12</td>\n",
       "      <td>NaN</td>\n",
       "    </tr>\n",
       "    <tr>\n",
       "      <th>2017-05-11</th>\n",
       "      <td>bitcoin</td>\n",
       "      <td>1828.678209</td>\n",
       "      <td>1.494461e+12</td>\n",
       "      <td>NaN</td>\n",
       "    </tr>\n",
       "    <tr>\n",
       "      <th>2017-05-12</th>\n",
       "      <td>bitcoin</td>\n",
       "      <td>1776.443919</td>\n",
       "      <td>1.494547e+12</td>\n",
       "      <td>NaN</td>\n",
       "    </tr>\n",
       "    <tr>\n",
       "      <th>2017-05-13</th>\n",
       "      <td>bitcoin</td>\n",
       "      <td>1714.964198</td>\n",
       "      <td>1.494634e+12</td>\n",
       "      <td>NaN</td>\n",
       "    </tr>\n",
       "  </tbody>\n",
       "</table>\n",
       "</div>"
      ],
      "text/plain": [
       "           cryptocurrency  data_priceUsd     data_time     timestamp\n",
       "data_date                                                           \n",
       "2017-05-09        bitcoin            NaN  1.494288e+12  1.557285e+12\n",
       "2017-05-10        bitcoin    1743.723523  1.494374e+12           NaN\n",
       "2017-05-11        bitcoin    1828.678209  1.494461e+12           NaN\n",
       "2017-05-12        bitcoin    1776.443919  1.494547e+12           NaN\n",
       "2017-05-13        bitcoin    1714.964198  1.494634e+12           NaN"
      ]
     },
     "execution_count": 3,
     "metadata": {},
     "output_type": "execute_result"
    }
   ],
   "source": [
    "# Read in CSV file\n",
    "csv_path = Path(\"../Resources/crypto_data.csv\")\n",
    "crypto_data = pd.read_csv(csv_path, index_col='data_date', parse_dates=True, infer_datetime_format=True)\n",
    "crypto_data.head()"
   ]
  },
  {
   "cell_type": "markdown",
   "metadata": {},
   "source": [
    "### Clean data"
   ]
  },
  {
   "cell_type": "code",
   "execution_count": 4,
   "metadata": {},
   "outputs": [
    {
     "data": {
      "text/html": [
       "<div>\n",
       "<style scoped>\n",
       "    .dataframe tbody tr th:only-of-type {\n",
       "        vertical-align: middle;\n",
       "    }\n",
       "\n",
       "    .dataframe tbody tr th {\n",
       "        vertical-align: top;\n",
       "    }\n",
       "\n",
       "    .dataframe thead th {\n",
       "        text-align: right;\n",
       "    }\n",
       "</style>\n",
       "<table border=\"1\" class=\"dataframe\">\n",
       "  <thead>\n",
       "    <tr style=\"text-align: right;\">\n",
       "      <th></th>\n",
       "      <th>cryptocurrency</th>\n",
       "      <th>data_priceUsd</th>\n",
       "    </tr>\n",
       "    <tr>\n",
       "      <th>data_date</th>\n",
       "      <th></th>\n",
       "      <th></th>\n",
       "    </tr>\n",
       "  </thead>\n",
       "  <tbody>\n",
       "    <tr>\n",
       "      <th>2017-05-10</th>\n",
       "      <td>bitcoin</td>\n",
       "      <td>1743.723523</td>\n",
       "    </tr>\n",
       "    <tr>\n",
       "      <th>2017-05-11</th>\n",
       "      <td>bitcoin</td>\n",
       "      <td>1828.678209</td>\n",
       "    </tr>\n",
       "    <tr>\n",
       "      <th>2017-05-12</th>\n",
       "      <td>bitcoin</td>\n",
       "      <td>1776.443919</td>\n",
       "    </tr>\n",
       "    <tr>\n",
       "      <th>2017-05-13</th>\n",
       "      <td>bitcoin</td>\n",
       "      <td>1714.964198</td>\n",
       "    </tr>\n",
       "    <tr>\n",
       "      <th>2017-05-14</th>\n",
       "      <td>bitcoin</td>\n",
       "      <td>1789.278913</td>\n",
       "    </tr>\n",
       "  </tbody>\n",
       "</table>\n",
       "</div>"
      ],
      "text/plain": [
       "           cryptocurrency  data_priceUsd\n",
       "data_date                               \n",
       "2017-05-10        bitcoin    1743.723523\n",
       "2017-05-11        bitcoin    1828.678209\n",
       "2017-05-12        bitcoin    1776.443919\n",
       "2017-05-13        bitcoin    1714.964198\n",
       "2017-05-14        bitcoin    1789.278913"
      ]
     },
     "execution_count": 4,
     "metadata": {},
     "output_type": "execute_result"
    }
   ],
   "source": [
    "# Drop extraneous columns\n",
    "crypto_data = crypto_data.drop(columns=['data_time','timestamp'])\n",
    "crypto_data = crypto_data.dropna()\n",
    "crypto_data.head()"
   ]
  },
  {
   "cell_type": "markdown",
   "metadata": {},
   "source": [
    "### Group data by `cryptocurrency` and plot on the same chart"
   ]
  },
  {
   "cell_type": "code",
   "execution_count": 8,
   "metadata": {},
   "outputs": [
    {
     "data": {
      "image/png": "[encoded data removed]",
      "text/plain": [
       "<Figure size 432x288 with 1 Axes>"
      ]
     },
     "metadata": {
      "needs_background": "light"
     },
     "output_type": "display_data"
    }
   ],
   "source": [
    "crypto_data_plot = crypto_data.groupby('cryptocurrency')['data_priceUsd'].plot(legend=True)"
   ]
  },
  {
   "cell_type": "markdown",
   "metadata": {},
   "source": [
    "### Calculate average price across two years for each cryptocurrency"
   ]
  },
  {
   "cell_type": "code",
   "execution_count": 6,
   "metadata": {},
   "outputs": [
    {
     "data": {
      "text/html": [
       "<div>\n",
       "<style scoped>\n",
       "    .dataframe tbody tr th:only-of-type {\n",
       "        vertical-align: middle;\n",
       "    }\n",
       "\n",
       "    .dataframe tbody tr th {\n",
       "        vertical-align: top;\n",
       "    }\n",
       "\n",
       "    .dataframe thead th {\n",
       "        text-align: right;\n",
       "    }\n",
       "</style>\n",
       "<table border=\"1\" class=\"dataframe\">\n",
       "  <thead>\n",
       "    <tr style=\"text-align: right;\">\n",
       "      <th></th>\n",
       "      <th>data_priceUsd</th>\n",
       "    </tr>\n",
       "    <tr>\n",
       "      <th>cryptocurrency</th>\n",
       "      <th></th>\n",
       "    </tr>\n",
       "  </thead>\n",
       "  <tbody>\n",
       "    <tr>\n",
       "      <th>bitcoin</th>\n",
       "      <td>6323.018445</td>\n",
       "    </tr>\n",
       "    <tr>\n",
       "      <th>bitcoin-cash</th>\n",
       "      <td>733.997564</td>\n",
       "    </tr>\n",
       "    <tr>\n",
       "      <th>ethereum</th>\n",
       "      <td>369.037426</td>\n",
       "    </tr>\n",
       "    <tr>\n",
       "      <th>litecoin</th>\n",
       "      <td>85.618264</td>\n",
       "    </tr>\n",
       "    <tr>\n",
       "      <th>ripple</th>\n",
       "      <td>0.475986</td>\n",
       "    </tr>\n",
       "  </tbody>\n",
       "</table>\n",
       "</div>"
      ],
      "text/plain": [
       "                data_priceUsd\n",
       "cryptocurrency               \n",
       "bitcoin           6323.018445\n",
       "bitcoin-cash       733.997564\n",
       "ethereum           369.037426\n",
       "litecoin            85.618264\n",
       "ripple               0.475986"
      ]
     },
     "execution_count": 6,
     "metadata": {},
     "output_type": "execute_result"
    }
   ],
   "source": [
    "# Determine average price across two years\n",
    "crypto_data_avg = crypto_data.groupby('cryptocurrency').mean()\n",
    "crypto_data_avg"
   ]
  },
  {
   "cell_type": "markdown",
   "metadata": {},
   "source": [
    "### Calculate max price across two years for each cryptocurrency"
   ]
  },
  {
   "cell_type": "code",
   "execution_count": 6,
   "metadata": {},
   "outputs": [
    {
     "data": {
      "text/plain": [
       "cryptocurrency\n",
       "bitcoin         19339.922660\n",
       "bitcoin-cash     3476.844119\n",
       "ethereum         1346.037491\n",
       "litecoin          352.713468\n",
       "ripple              2.999459\n",
       "Name: data_priceUsd, dtype: float64"
      ]
     },
     "execution_count": 6,
     "metadata": {},
     "output_type": "execute_result"
    }
   ],
   "source": [
    "crypto_data_max = crypto_data.groupby('cryptocurrency')['data_priceUsd'].max()\n",
    "crypto_data_max"
   ]
  },
  {
   "cell_type": "markdown",
   "metadata": {},
   "source": [
    "### Calculate min price across two years for each cryptocurrency"
   ]
  },
  {
   "cell_type": "code",
   "execution_count": 7,
   "metadata": {},
   "outputs": [
    {
     "data": {
      "text/plain": [
       "cryptocurrency\n",
       "bitcoin         1714.964198\n",
       "bitcoin-cash      78.977344\n",
       "ethereum          84.374014\n",
       "litecoin          22.550468\n",
       "ripple             0.154144\n",
       "Name: data_priceUsd, dtype: float64"
      ]
     },
     "execution_count": 7,
     "metadata": {},
     "output_type": "execute_result"
    }
   ],
   "source": [
    "crypto_data_min = crypto_data.groupby('cryptocurrency')['data_priceUsd'].min()\n",
    "crypto_data_min"
   ]
  },
  {
   "cell_type": "markdown",
   "metadata": {},
   "source": [
    "### What does the data say about crypto performance in the past two years? Should you get back in the game?"
   ]
  },
  {
   "cell_type": "markdown",
   "metadata": {},
   "source": [
    "Bitcoin is leading the charge with the highest USD price. Bitcoin prices are down, but for the most part, they have been consistent. Prices for other cryptos have also been consistent. In order to truly determine whether investments should be made, daily returns for each crypto will need to be caclculated."
   ]
  }
 ],
 "metadata": {
  "kernelspec": {
   "display_name": "Python 3",
   "language": "python",
   "name": "python3"
  },
  "language_info": {
   "codemirror_mode": {
    "name": "ipython",
    "version": 3
   },
   "file_extension": ".py",
   "mimetype": "text/x-python",
   "name": "python",
   "nbconvert_exporter": "python",
   "pygments_lexer": "ipython3",
   "version": "3.7.1"
  }
 },
 "nbformat": 4,
 "nbformat_minor": 2
}
