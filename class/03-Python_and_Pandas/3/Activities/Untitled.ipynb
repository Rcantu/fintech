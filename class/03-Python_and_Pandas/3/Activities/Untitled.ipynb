{
 "cells": [
  {
   "cell_type": "code",
   "execution_count": 5,
   "metadata": {},
   "outputs": [],
   "source": [
    "from pathlib import Path\n",
    "import pandas as pd"
   ]
  },
  {
   "cell_type": "raw",
   "metadata": {},
   "source": [
    "csvpath = Path(\"HistoricalQuotes.csv\")\n",
    "df = pd.read_csv(csvpath)"
   ]
  },
  {
   "cell_type": "code",
   "execution_count": 7,
   "metadata": {},
   "outputs": [
    {
     "data": {
      "text/html": [
       "<div>\n",
       "<style scoped>\n",
       "    .dataframe tbody tr th:only-of-type {\n",
       "        vertical-align: middle;\n",
       "    }\n",
       "\n",
       "    .dataframe tbody tr th {\n",
       "        vertical-align: top;\n",
       "    }\n",
       "\n",
       "    .dataframe thead th {\n",
       "        text-align: right;\n",
       "    }\n",
       "</style>\n",
       "<table border=\"1\" class=\"dataframe\">\n",
       "  <thead>\n",
       "    <tr style=\"text-align: right;\">\n",
       "      <th></th>\n",
       "      <th>date</th>\n",
       "      <th>close</th>\n",
       "      <th>volume</th>\n",
       "      <th>open</th>\n",
       "      <th>high</th>\n",
       "      <th>low</th>\n",
       "    </tr>\n",
       "  </thead>\n",
       "  <tbody>\n",
       "    <tr>\n",
       "      <th>0</th>\n",
       "      <td>2019/08/09</td>\n",
       "      <td>164.37</td>\n",
       "      <td>2756441.0</td>\n",
       "      <td>162.54</td>\n",
       "      <td>166.3000</td>\n",
       "      <td>162.05</td>\n",
       "    </tr>\n",
       "    <tr>\n",
       "      <th>1</th>\n",
       "      <td>2019/08/08</td>\n",
       "      <td>162.70</td>\n",
       "      <td>5106005.0</td>\n",
       "      <td>168.57</td>\n",
       "      <td>168.6800</td>\n",
       "      <td>158.00</td>\n",
       "    </tr>\n",
       "    <tr>\n",
       "      <th>2</th>\n",
       "      <td>2019/08/07</td>\n",
       "      <td>167.00</td>\n",
       "      <td>5857961.0</td>\n",
       "      <td>164.00</td>\n",
       "      <td>167.4450</td>\n",
       "      <td>160.55</td>\n",
       "    </tr>\n",
       "    <tr>\n",
       "      <th>3</th>\n",
       "      <td>2019/08/06</td>\n",
       "      <td>161.24</td>\n",
       "      <td>8407653.0</td>\n",
       "      <td>180.10</td>\n",
       "      <td>181.7499</td>\n",
       "      <td>160.62</td>\n",
       "    </tr>\n",
       "    <tr>\n",
       "      <th>4</th>\n",
       "      <td>2019/08/05</td>\n",
       "      <td>175.94</td>\n",
       "      <td>5665541.0</td>\n",
       "      <td>173.10</td>\n",
       "      <td>178.2300</td>\n",
       "      <td>170.99</td>\n",
       "    </tr>\n",
       "  </tbody>\n",
       "</table>\n",
       "</div>"
      ],
      "text/plain": [
       "         date   close     volume    open      high     low\n",
       "0  2019/08/09  164.37  2756441.0  162.54  166.3000  162.05\n",
       "1  2019/08/08  162.70  5106005.0  168.57  168.6800  158.00\n",
       "2  2019/08/07  167.00  5857961.0  164.00  167.4450  160.55\n",
       "3  2019/08/06  161.24  8407653.0  180.10  181.7499  160.62\n",
       "4  2019/08/05  175.94  5665541.0  173.10  178.2300  170.99"
      ]
     },
     "execution_count": 7,
     "metadata": {},
     "output_type": "execute_result"
    }
   ],
   "source": [
    "df.head()"
   ]
  },
  {
   "cell_type": "code",
   "execution_count": 8,
   "metadata": {},
   "outputs": [
    {
     "data": {
      "text/plain": [
       "0          NaN\n",
       "1    -0.010160\n",
       "2     0.026429\n",
       "3    -0.034491\n",
       "4     0.091168\n",
       "5     0.006650\n",
       "6    -0.006041\n",
       "7     0.116280\n",
       "8    -0.008905\n",
       "9     0.140532\n",
       "10    0.057489\n",
       "11   -0.051256\n",
       "12   -0.089473\n",
       "13   -0.036665\n",
       "14   -0.006548\n",
       "15   -0.089650\n",
       "16   -0.036484\n",
       "17   -0.004109\n",
       "18    0.017390\n",
       "19   -0.035112\n",
       "20    0.001681\n",
       "21    0.044302\n",
       "22   -0.061366\n",
       "23   -0.034799\n",
       "24   -0.007287\n",
       "25   -0.025787\n",
       "26   -0.007404\n",
       "27   -0.011815\n",
       "28    0.019170\n",
       "29    0.053087\n",
       "        ...   \n",
       "40   -0.066609\n",
       "41    0.004102\n",
       "42   -0.112207\n",
       "43    0.333704\n",
       "44   -0.175193\n",
       "45   -0.282366\n",
       "46    0.031156\n",
       "47    0.007895\n",
       "48   -0.070109\n",
       "49    0.082779\n",
       "50   -0.053112\n",
       "51   -0.011056\n",
       "52   -0.117949\n",
       "53   -0.073605\n",
       "54    0.030501\n",
       "55   -0.054446\n",
       "56   -0.001675\n",
       "57    0.110839\n",
       "58    0.037867\n",
       "59    0.039955\n",
       "60   -0.064572\n",
       "61   -0.083295\n",
       "62   -0.127761\n",
       "63   -0.047194\n",
       "64    0.030957\n",
       "65    0.058298\n",
       "66    0.095779\n",
       "67   -0.055324\n",
       "68   -0.106966\n",
       "69   -0.015571\n",
       "Name: close, Length: 70, dtype: float64"
      ]
     },
     "execution_count": 8,
     "metadata": {},
     "output_type": "execute_result"
    }
   ],
   "source": [
    "df[\"close\"].pct_change()"
   ]
  },
  {
   "cell_type": "code",
   "execution_count": null,
   "metadata": {},
   "outputs": [],
   "source": []
  }
 ],
 "metadata": {
  "kernelspec": {
   "display_name": "Python 3",
   "language": "python",
   "name": "python3"
  },
  "language_info": {
   "codemirror_mode": {
    "name": "ipython",
    "version": 3
   },
   "file_extension": ".py",
   "mimetype": "text/x-python",
   "name": "python",
   "nbconvert_exporter": "python",
   "pygments_lexer": "ipython3",
   "version": "3.7.1"
  }
 },
 "nbformat": 4,
 "nbformat_minor": 2
}
