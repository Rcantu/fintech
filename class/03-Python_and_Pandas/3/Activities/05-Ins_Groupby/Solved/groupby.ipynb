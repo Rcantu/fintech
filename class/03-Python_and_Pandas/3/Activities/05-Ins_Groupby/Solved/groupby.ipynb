{
 "cells": [
  {
   "cell_type": "code",
   "execution_count": 3,
   "metadata": {},
   "outputs": [],
   "source": [
    "import pandas as pd\n",
    "from pathlib import Path\n",
    "%matplotlib inline"
   ]
  },
  {
   "cell_type": "markdown",
   "metadata": {},
   "source": [
    "### Read in File and Clean Data"
   ]
  },
  {
   "cell_type": "code",
   "execution_count": 4,
   "metadata": {},
   "outputs": [
    {
     "data": {
      "text/html": [
       "<div>\n",
       "<style scoped>\n",
       "    .dataframe tbody tr th:only-of-type {\n",
       "        vertical-align: middle;\n",
       "    }\n",
       "\n",
       "    .dataframe tbody tr th {\n",
       "        vertical-align: top;\n",
       "    }\n",
       "\n",
       "    .dataframe thead th {\n",
       "        text-align: right;\n",
       "    }\n",
       "</style>\n",
       "<table border=\"1\" class=\"dataframe\">\n",
       "  <thead>\n",
       "    <tr style=\"text-align: right;\">\n",
       "      <th></th>\n",
       "      <th>cryptocurrency</th>\n",
       "      <th>data_priceUsd</th>\n",
       "    </tr>\n",
       "    <tr>\n",
       "      <th>data_date</th>\n",
       "      <th></th>\n",
       "      <th></th>\n",
       "    </tr>\n",
       "  </thead>\n",
       "  <tbody>\n",
       "    <tr>\n",
       "      <th>2017-05-10</th>\n",
       "      <td>bitcoin</td>\n",
       "      <td>1743.723523</td>\n",
       "    </tr>\n",
       "    <tr>\n",
       "      <th>2017-05-11</th>\n",
       "      <td>bitcoin</td>\n",
       "      <td>1828.678209</td>\n",
       "    </tr>\n",
       "    <tr>\n",
       "      <th>2017-05-12</th>\n",
       "      <td>bitcoin</td>\n",
       "      <td>1776.443919</td>\n",
       "    </tr>\n",
       "    <tr>\n",
       "      <th>2017-05-13</th>\n",
       "      <td>bitcoin</td>\n",
       "      <td>1714.964198</td>\n",
       "    </tr>\n",
       "    <tr>\n",
       "      <th>2017-05-14</th>\n",
       "      <td>bitcoin</td>\n",
       "      <td>1789.278913</td>\n",
       "    </tr>\n",
       "  </tbody>\n",
       "</table>\n",
       "</div>"
      ],
      "text/plain": [
       "           cryptocurrency  data_priceUsd\n",
       "data_date                               \n",
       "2017-05-10        bitcoin    1743.723523\n",
       "2017-05-11        bitcoin    1828.678209\n",
       "2017-05-12        bitcoin    1776.443919\n",
       "2017-05-13        bitcoin    1714.964198\n",
       "2017-05-14        bitcoin    1789.278913"
      ]
     },
     "execution_count": 4,
     "metadata": {},
     "output_type": "execute_result"
    }
   ],
   "source": [
    "# Read CSV\n",
    "csv_path = Path('../Resources/crypto_data.csv')\n",
    "crypto_data = pd.read_csv(csv_path, index_col='data_date', parse_dates=True, infer_datetime_format=True)\n",
    "crypto_data\n",
    "\n",
    "# Drop all columns cryptocurrency and data_priceUsd\n",
    "crypto_data = crypto_data.drop(columns=['data_time','timestamp'])\n",
    "\n",
    "# Drop missing values\n",
    "crypto_data = crypto_data.dropna()\n",
    "crypto_data.head()"
   ]
  },
  {
   "cell_type": "markdown",
   "metadata": {},
   "source": [
    "### Group DataFrame and perform `count` aggregation"
   ]
  },
  {
   "cell_type": "code",
   "execution_count": 5,
   "metadata": {},
   "outputs": [
    {
     "data": {
      "text/plain": [
       "<pandas.core.groupby.groupby.DataFrameGroupBy object at 0x114eabd30>"
      ]
     },
     "execution_count": 5,
     "metadata": {},
     "output_type": "execute_result"
    }
   ],
   "source": [
    "crypto_data.groupby('cryptocurrency')"
   ]
  },
  {
   "cell_type": "code",
   "execution_count": 3,
   "metadata": {},
   "outputs": [
    {
     "data": {
      "text/html": [
       "<div>\n",
       "<style scoped>\n",
       "    .dataframe tbody tr th:only-of-type {\n",
       "        vertical-align: middle;\n",
       "    }\n",
       "\n",
       "    .dataframe tbody tr th {\n",
       "        vertical-align: top;\n",
       "    }\n",
       "\n",
       "    .dataframe thead th {\n",
       "        text-align: right;\n",
       "    }\n",
       "</style>\n",
       "<table border=\"1\" class=\"dataframe\">\n",
       "  <thead>\n",
       "    <tr style=\"text-align: right;\">\n",
       "      <th></th>\n",
       "      <th>data_priceUsd</th>\n",
       "    </tr>\n",
       "    <tr>\n",
       "      <th>cryptocurrency</th>\n",
       "      <th></th>\n",
       "    </tr>\n",
       "  </thead>\n",
       "  <tbody>\n",
       "    <tr>\n",
       "      <th>bitcoin</th>\n",
       "      <td>722</td>\n",
       "    </tr>\n",
       "    <tr>\n",
       "      <th>bitcoin-cash</th>\n",
       "      <td>639</td>\n",
       "    </tr>\n",
       "    <tr>\n",
       "      <th>ethereum</th>\n",
       "      <td>722</td>\n",
       "    </tr>\n",
       "    <tr>\n",
       "      <th>litecoin</th>\n",
       "      <td>728</td>\n",
       "    </tr>\n",
       "    <tr>\n",
       "      <th>ripple</th>\n",
       "      <td>728</td>\n",
       "    </tr>\n",
       "  </tbody>\n",
       "</table>\n",
       "</div>"
      ],
      "text/plain": [
       "                data_priceUsd\n",
       "cryptocurrency               \n",
       "bitcoin                   722\n",
       "bitcoin-cash              639\n",
       "ethereum                  722\n",
       "litecoin                  728\n",
       "ripple                    728"
      ]
     },
     "execution_count": 3,
     "metadata": {},
     "output_type": "execute_result"
    }
   ],
   "source": [
    "# Group by crypto data by cryptocurrency and perform count\n",
    "crypto_data_grp = crypto_data.groupby('cryptocurrency').count()\n",
    "crypto_data_grp"
   ]
  },
  {
   "cell_type": "markdown",
   "metadata": {},
   "source": [
    "### Group DataFrame without aggregate function"
   ]
  },
  {
   "cell_type": "code",
   "execution_count": 3,
   "metadata": {},
   "outputs": [
    {
     "data": {
      "text/plain": [
       "<pandas.core.groupby.generic.DataFrameGroupBy object at 0x000001D49BBF15F8>"
      ]
     },
     "execution_count": 3,
     "metadata": {},
     "output_type": "execute_result"
    }
   ],
   "source": [
    "# Group by crypto data by cryptocurrency\n",
    "crypto_data_grp = crypto_data.groupby('cryptocurrency')\n",
    "crypto_data_grp"
   ]
  },
  {
   "cell_type": "markdown",
   "metadata": {},
   "source": [
    "### Group DataFrame by `cryptocurrency` and calculate the average `data_priceUsd`"
   ]
  },
  {
   "cell_type": "code",
   "execution_count": 4,
   "metadata": {},
   "outputs": [
    {
     "data": {
      "text/html": [
       "<div>\n",
       "<style scoped>\n",
       "    .dataframe tbody tr th:only-of-type {\n",
       "        vertical-align: middle;\n",
       "    }\n",
       "\n",
       "    .dataframe tbody tr th {\n",
       "        vertical-align: top;\n",
       "    }\n",
       "\n",
       "    .dataframe thead th {\n",
       "        text-align: right;\n",
       "    }\n",
       "</style>\n",
       "<table border=\"1\" class=\"dataframe\">\n",
       "  <thead>\n",
       "    <tr style=\"text-align: right;\">\n",
       "      <th></th>\n",
       "      <th>data_priceUsd</th>\n",
       "    </tr>\n",
       "    <tr>\n",
       "      <th>cryptocurrency</th>\n",
       "      <th></th>\n",
       "    </tr>\n",
       "  </thead>\n",
       "  <tbody>\n",
       "    <tr>\n",
       "      <th>bitcoin</th>\n",
       "      <td>6323.018445</td>\n",
       "    </tr>\n",
       "    <tr>\n",
       "      <th>bitcoin-cash</th>\n",
       "      <td>733.997564</td>\n",
       "    </tr>\n",
       "    <tr>\n",
       "      <th>ethereum</th>\n",
       "      <td>369.037426</td>\n",
       "    </tr>\n",
       "    <tr>\n",
       "      <th>litecoin</th>\n",
       "      <td>85.618264</td>\n",
       "    </tr>\n",
       "    <tr>\n",
       "      <th>ripple</th>\n",
       "      <td>0.475986</td>\n",
       "    </tr>\n",
       "  </tbody>\n",
       "</table>\n",
       "</div>"
      ],
      "text/plain": [
       "                data_priceUsd\n",
       "cryptocurrency               \n",
       "bitcoin           6323.018445\n",
       "bitcoin-cash       733.997564\n",
       "ethereum           369.037426\n",
       "litecoin            85.618264\n",
       "ripple               0.475986"
      ]
     },
     "execution_count": 4,
     "metadata": {},
     "output_type": "execute_result"
    }
   ],
   "source": [
    "# Calculate average data_priceUsd for each crypto\n",
    "crypto_data_mean = crypto_data.groupby('cryptocurrency').mean()\n",
    "crypto_data_mean"
   ]
  },
  {
   "cell_type": "markdown",
   "metadata": {},
   "source": [
    "### Group by more than one column and calculate count"
   ]
  },
  {
   "cell_type": "code",
   "execution_count": 6,
   "metadata": {},
   "outputs": [
    {
     "data": {
      "text/html": [
       "<div>\n",
       "<style scoped>\n",
       "    .dataframe tbody tr th:only-of-type {\n",
       "        vertical-align: middle;\n",
       "    }\n",
       "\n",
       "    .dataframe tbody tr th {\n",
       "        vertical-align: top;\n",
       "    }\n",
       "\n",
       "    .dataframe thead th {\n",
       "        text-align: right;\n",
       "    }\n",
       "</style>\n",
       "<table border=\"1\" class=\"dataframe\">\n",
       "  <thead>\n",
       "    <tr style=\"text-align: right;\">\n",
       "      <th></th>\n",
       "      <th></th>\n",
       "    </tr>\n",
       "    <tr>\n",
       "      <th>cryptocurrency</th>\n",
       "      <th>data_priceUsd</th>\n",
       "    </tr>\n",
       "  </thead>\n",
       "  <tbody>\n",
       "    <tr>\n",
       "      <th rowspan=\"30\" valign=\"top\">bitcoin</th>\n",
       "      <th>1714.964198</th>\n",
       "    </tr>\n",
       "    <tr>\n",
       "      <th>1742.722945</th>\n",
       "    </tr>\n",
       "    <tr>\n",
       "      <th>1743.723523</th>\n",
       "    </tr>\n",
       "    <tr>\n",
       "      <th>1776.443919</th>\n",
       "    </tr>\n",
       "    <tr>\n",
       "      <th>1789.278913</th>\n",
       "    </tr>\n",
       "    <tr>\n",
       "      <th>1802.035054</th>\n",
       "    </tr>\n",
       "    <tr>\n",
       "      <th>1828.678209</th>\n",
       "    </tr>\n",
       "    <tr>\n",
       "      <th>1840.501678</th>\n",
       "    </tr>\n",
       "    <tr>\n",
       "      <th>1932.284978</th>\n",
       "    </tr>\n",
       "    <tr>\n",
       "      <th>1958.249023</th>\n",
       "    </tr>\n",
       "    <tr>\n",
       "      <th>1988.961436</th>\n",
       "    </tr>\n",
       "    <tr>\n",
       "      <th>2041.043206</th>\n",
       "    </tr>\n",
       "    <tr>\n",
       "      <th>2046.891968</th>\n",
       "    </tr>\n",
       "    <tr>\n",
       "      <th>2071.957172</th>\n",
       "    </tr>\n",
       "    <tr>\n",
       "      <th>2096.067600</th>\n",
       "    </tr>\n",
       "    <tr>\n",
       "      <th>2132.615875</th>\n",
       "    </tr>\n",
       "    <tr>\n",
       "      <th>2155.227076</th>\n",
       "    </tr>\n",
       "    <tr>\n",
       "      <th>2192.000968</th>\n",
       "    </tr>\n",
       "    <tr>\n",
       "      <th>2212.049849</th>\n",
       "    </tr>\n",
       "    <tr>\n",
       "      <th>2250.859259</th>\n",
       "    </tr>\n",
       "    <tr>\n",
       "      <th>2288.241462</th>\n",
       "    </tr>\n",
       "    <tr>\n",
       "      <th>2291.077073</th>\n",
       "    </tr>\n",
       "    <tr>\n",
       "      <th>2327.194524</th>\n",
       "    </tr>\n",
       "    <tr>\n",
       "      <th>2346.694194</th>\n",
       "    </tr>\n",
       "    <tr>\n",
       "      <th>2354.414928</th>\n",
       "    </tr>\n",
       "    <tr>\n",
       "      <th>2357.075417</th>\n",
       "    </tr>\n",
       "    <tr>\n",
       "      <th>2372.288414</th>\n",
       "    </tr>\n",
       "    <tr>\n",
       "      <th>2372.674114</th>\n",
       "    </tr>\n",
       "    <tr>\n",
       "      <th>2378.792460</th>\n",
       "    </tr>\n",
       "    <tr>\n",
       "      <th>2407.755441</th>\n",
       "    </tr>\n",
       "    <tr>\n",
       "      <th>...</th>\n",
       "      <th>...</th>\n",
       "    </tr>\n",
       "    <tr>\n",
       "      <th rowspan=\"30\" valign=\"top\">ripple</th>\n",
       "      <th>1.229900</th>\n",
       "    </tr>\n",
       "    <tr>\n",
       "      <th>1.260938</th>\n",
       "    </tr>\n",
       "    <tr>\n",
       "      <th>1.289454</th>\n",
       "    </tr>\n",
       "    <tr>\n",
       "      <th>1.299386</th>\n",
       "    </tr>\n",
       "    <tr>\n",
       "      <th>1.309667</th>\n",
       "    </tr>\n",
       "    <tr>\n",
       "      <th>1.330007</th>\n",
       "    </tr>\n",
       "    <tr>\n",
       "      <th>1.347166</th>\n",
       "    </tr>\n",
       "    <tr>\n",
       "      <th>1.380353</th>\n",
       "    </tr>\n",
       "    <tr>\n",
       "      <th>1.421460</th>\n",
       "    </tr>\n",
       "    <tr>\n",
       "      <th>1.496429</th>\n",
       "    </tr>\n",
       "    <tr>\n",
       "      <th>1.555010</th>\n",
       "    </tr>\n",
       "    <tr>\n",
       "      <th>1.579438</th>\n",
       "    </tr>\n",
       "    <tr>\n",
       "      <th>1.583631</th>\n",
       "    </tr>\n",
       "    <tr>\n",
       "      <th>1.806480</th>\n",
       "    </tr>\n",
       "    <tr>\n",
       "      <th>1.865440</th>\n",
       "    </tr>\n",
       "    <tr>\n",
       "      <th>1.868782</th>\n",
       "    </tr>\n",
       "    <tr>\n",
       "      <th>1.911522</th>\n",
       "    </tr>\n",
       "    <tr>\n",
       "      <th>1.921650</th>\n",
       "    </tr>\n",
       "    <tr>\n",
       "      <th>1.921740</th>\n",
       "    </tr>\n",
       "    <tr>\n",
       "      <th>2.006651</th>\n",
       "    </tr>\n",
       "    <tr>\n",
       "      <th>2.026814</th>\n",
       "    </tr>\n",
       "    <tr>\n",
       "      <th>2.054930</th>\n",
       "    </tr>\n",
       "    <tr>\n",
       "      <th>2.096278</th>\n",
       "    </tr>\n",
       "    <tr>\n",
       "      <th>2.287959</th>\n",
       "    </tr>\n",
       "    <tr>\n",
       "      <th>2.481938</th>\n",
       "    </tr>\n",
       "    <tr>\n",
       "      <th>2.507770</th>\n",
       "    </tr>\n",
       "    <tr>\n",
       "      <th>2.665656</th>\n",
       "    </tr>\n",
       "    <tr>\n",
       "      <th>2.667044</th>\n",
       "    </tr>\n",
       "    <tr>\n",
       "      <th>2.709364</th>\n",
       "    </tr>\n",
       "    <tr>\n",
       "      <th>2.999459</th>\n",
       "    </tr>\n",
       "  </tbody>\n",
       "</table>\n",
       "<p>3539 rows × 0 columns</p>\n",
       "</div>"
      ],
      "text/plain": [
       "Empty DataFrame\n",
       "Columns: []\n",
       "Index: [(bitcoin, 1714.9641980000001), (bitcoin, 1742.722945), (bitcoin, 1743.7235230000001), (bitcoin, 1776.443919), (bitcoin, 1789.2789129999999), (bitcoin, 1802.035054), (bitcoin, 1828.678209), (bitcoin, 1840.501678), (bitcoin, 1932.2849780000001), (bitcoin, 1958.249023), (bitcoin, 1988.961436), (bitcoin, 2041.0432059999998), (bitcoin, 2046.891968), (bitcoin, 2071.957172), (bitcoin, 2096.0676), (bitcoin, 2132.615875), (bitcoin, 2155.227076), (bitcoin, 2192.000968), (bitcoin, 2212.049849), (bitcoin, 2250.859259), (bitcoin, 2288.241462), (bitcoin, 2291.077073), (bitcoin, 2327.194524), (bitcoin, 2346.694194), (bitcoin, 2354.414928), (bitcoin, 2357.075417), (bitcoin, 2372.288414), (bitcoin, 2372.674114), (bitcoin, 2378.79246), (bitcoin, 2407.755441), (bitcoin, 2417.867373), (bitcoin, 2451.2132), (bitcoin, 2453.34868), (bitcoin, 2457.454272), (bitcoin, 2459.347503), (bitcoin, 2466.3220760000004), (bitcoin, 2498.842414), (bitcoin, 2500.43098), (bitcoin, 2505.279935), (bitcoin, 2520.624859), (bitcoin, 2531.377947), (bitcoin, 2539.860407), (bitcoin, 2541.037053), (bitcoin, 2543.7377539999998), (bitcoin, 2545.218537), (bitcoin, 2545.894708), (bitcoin, 2553.676947), (bitcoin, 2566.438671), (bitcoin, 2566.851311), (bitcoin, 2569.003706), (bitcoin, 2570.472055), (bitcoin, 2570.784855), (bitcoin, 2588.95147), (bitcoin, 2590.6412920000002), (bitcoin, 2597.7124719999997), (bitcoin, 2606.473708), (bitcoin, 2612.25551), (bitcoin, 2639.38203), (bitcoin, 2644.42532), (bitcoin, 2671.6309899999997), (bitcoin, 2675.428805), (bitcoin, 2689.351636), (bitcoin, 2697.921409), (bitcoin, 2707.275496), (bitcoin, 2714.153855), (bitcoin, 2725.390532), (bitcoin, 2727.9489550000003), (bitcoin, 2734.367812), (bitcoin, 2743.7321), (bitcoin, 2746.115898), (bitcoin, 2757.4283649999998), (bitcoin, 2758.004095), (bitcoin, 2759.912488), (bitcoin, 2774.08216), (bitcoin, 2782.433486), (bitcoin, 2787.871182), (bitcoin, 2789.302044), (bitcoin, 2793.5616670000004), (bitcoin, 2807.993735), (bitcoin, 2817.290994), (bitcoin, 2819.741341), (bitcoin, 2842.1135329999997), (bitcoin, 2846.735247), (bitcoin, 2894.7766149999998), (bitcoin, 3161.3144899999998), (bitcoin, 3234.1647239999998), (bitcoin, 3239.227422), (bitcoin, 3281.676963), (bitcoin, 3282.4190489999996), (bitcoin, 3312.535286), (bitcoin, 3353.154619), (bitcoin, 3399.898936), (bitcoin, 3401.0455880000004), (bitcoin, 3401.5059450000003), (bitcoin, 3401.88354), (bitcoin, 3403.6714020000004), (bitcoin, 3413.275057), (bitcoin, 3414.1288280000003), (bitcoin, 3423.8151340000004), (bitcoin, 3426.645371), ...]\n",
       "\n",
       "[3539 rows x 0 columns]"
      ]
     },
     "execution_count": 6,
     "metadata": {},
     "output_type": "execute_result"
    }
   ],
   "source": [
    "# Group by more than one column\n",
    "multi_group = crypto_data.groupby(['cryptocurrency','data_priceUsd']).count()\n",
    "multi_group"
   ]
  },
  {
   "cell_type": "markdown",
   "metadata": {},
   "source": [
    "### Compare single column grouping to multicolumn grouping"
   ]
  },
  {
   "cell_type": "code",
   "execution_count": 6,
   "metadata": {},
   "outputs": [
    {
     "data": {
      "text/plain": [
       "cryptocurrency\n",
       "bitcoin         722\n",
       "bitcoin-cash    639\n",
       "ethereum        722\n",
       "litecoin        728\n",
       "ripple          728\n",
       "Name: data_priceUsd, dtype: int64"
      ]
     },
     "execution_count": 6,
     "metadata": {},
     "output_type": "execute_result"
    }
   ],
   "source": [
    "# Compare one column group with multiple column group\n",
    "single_group = crypto_data.groupby('cryptocurrency')['data_priceUsd'].count()\n",
    "single_group"
   ]
  },
  {
   "cell_type": "markdown",
   "metadata": {},
   "source": [
    "### Plot grouped data to generate more than one line on the same chart"
   ]
  },
  {
   "cell_type": "code",
   "execution_count": 7,
   "metadata": {},
   "outputs": [
    {
     "data": {
      "text/plain": [
       "cryptocurrency\n",
       "bitcoin         AxesSubplot(0.125,0.2;0.775x0.68)\n",
       "bitcoin-cash    AxesSubplot(0.125,0.2;0.775x0.68)\n",
       "ethereum        AxesSubplot(0.125,0.2;0.775x0.68)\n",
       "litecoin        AxesSubplot(0.125,0.2;0.775x0.68)\n",
       "ripple          AxesSubplot(0.125,0.2;0.775x0.68)\n",
       "Name: data_priceUsd, dtype: object"
      ]
     },
     "execution_count": 7,
     "metadata": {},
     "output_type": "execute_result"
    },
    {
     "data": {
      "image/png": "[encoded data removed]",
      "text/plain": [
       "<Figure size 432x288 with 1 Axes>"
      ]
     },
     "metadata": {
      "needs_background": "light"
     },
     "output_type": "display_data"
    }
   ],
   "source": [
    "# Plot data_priceUsd for each crypto across time\n",
    "grouped_cryptos = crypto_data.groupby('cryptocurrency')['data_priceUsd'].plot(legend=True)\n",
    "grouped_cryptos"
   ]
  }
 ],
 "metadata": {
  "kernelspec": {
   "display_name": "Python 3",
   "language": "python",
   "name": "python3"
  },
  "language_info": {
   "codemirror_mode": {
    "name": "ipython",
    "version": 3
   },
   "file_extension": ".py",
   "mimetype": "text/x-python",
   "name": "python",
   "nbconvert_exporter": "python",
   "pygments_lexer": "ipython3",
   "version": "3.7.1"
  }
 },
 "nbformat": 4,
 "nbformat_minor": 2
}
