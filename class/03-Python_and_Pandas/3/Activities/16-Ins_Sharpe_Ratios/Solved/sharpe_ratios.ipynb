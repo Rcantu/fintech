{
 "cells": [
  {
   "cell_type": "code",
   "execution_count": 1,
   "metadata": {},
   "outputs": [],
   "source": [
    "import pandas as pd\n",
    "import numpy as np\n",
    "from pathlib import Path\n",
    "%matplotlib inline"
   ]
  },
  {
   "cell_type": "markdown",
   "metadata": {},
   "source": [
    "### Read data"
   ]
  },
  {
   "cell_type": "code",
   "execution_count": 2,
   "metadata": {},
   "outputs": [],
   "source": [
    "portfolio_a_path = Path(\"../Resources/tech_stocks_2018_a.csv\")\n",
    "portfolio_b_path = Path(\"../Resources/tech_stocks_2018_b.csv\")\n",
    "\n",
    "portfolio_a = pd.read_csv(portfolio_a_path, index_col='Date', parse_dates=True, infer_datetime_format=True)\n",
    "portfolio_b = pd.read_csv(portfolio_b_path, index_col='Date', parse_dates=True, infer_datetime_format=True)"
   ]
  },
  {
   "cell_type": "markdown",
   "metadata": {},
   "source": [
    "### Calculate Annualized Std Dev"
   ]
  },
  {
   "cell_type": "code",
   "execution_count": 3,
   "metadata": {},
   "outputs": [
    {
     "data": {
      "text/html": [
       "<div>\n",
       "<style scoped>\n",
       "    .dataframe tbody tr th:only-of-type {\n",
       "        vertical-align: middle;\n",
       "    }\n",
       "\n",
       "    .dataframe tbody tr th {\n",
       "        vertical-align: top;\n",
       "    }\n",
       "\n",
       "    .dataframe thead th {\n",
       "        text-align: right;\n",
       "    }\n",
       "</style>\n",
       "<table border=\"1\" class=\"dataframe\">\n",
       "  <thead>\n",
       "    <tr style=\"text-align: right;\">\n",
       "      <th></th>\n",
       "      <th>AAPL</th>\n",
       "      <th>MSFT</th>\n",
       "      <th>GOOG</th>\n",
       "      <th>FB</th>\n",
       "      <th>AMZN</th>\n",
       "      <th>SNE</th>\n",
       "      <th>AMD</th>\n",
       "      <th>TWTR</th>\n",
       "      <th>UBER</th>\n",
       "      <th>AMZN</th>\n",
       "    </tr>\n",
       "    <tr>\n",
       "      <th>Date</th>\n",
       "      <th></th>\n",
       "      <th></th>\n",
       "      <th></th>\n",
       "      <th></th>\n",
       "      <th></th>\n",
       "      <th></th>\n",
       "      <th></th>\n",
       "      <th></th>\n",
       "      <th></th>\n",
       "      <th></th>\n",
       "    </tr>\n",
       "  </thead>\n",
       "  <tbody>\n",
       "    <tr>\n",
       "      <th>2018-01-02</th>\n",
       "      <td>0.066224</td>\n",
       "      <td>0.122337</td>\n",
       "      <td>1.084802</td>\n",
       "      <td>-0.145827</td>\n",
       "      <td>-0.051064</td>\n",
       "      <td>0.003038</td>\n",
       "      <td>0.044040</td>\n",
       "      <td>-0.071155</td>\n",
       "      <td>-0.177648</td>\n",
       "      <td>-0.051064</td>\n",
       "    </tr>\n",
       "    <tr>\n",
       "      <th>2018-01-03</th>\n",
       "      <td>0.008380</td>\n",
       "      <td>0.086957</td>\n",
       "      <td>-0.550053</td>\n",
       "      <td>0.274202</td>\n",
       "      <td>-0.226921</td>\n",
       "      <td>0.154685</td>\n",
       "      <td>0.090801</td>\n",
       "      <td>-0.138784</td>\n",
       "      <td>0.182390</td>\n",
       "      <td>-0.226921</td>\n",
       "    </tr>\n",
       "    <tr>\n",
       "      <th>2018-01-04</th>\n",
       "      <td>-0.251489</td>\n",
       "      <td>0.042723</td>\n",
       "      <td>0.584238</td>\n",
       "      <td>-0.177797</td>\n",
       "      <td>0.478183</td>\n",
       "      <td>0.043022</td>\n",
       "      <td>0.001242</td>\n",
       "      <td>0.412844</td>\n",
       "      <td>-0.050648</td>\n",
       "      <td>0.478183</td>\n",
       "    </tr>\n",
       "    <tr>\n",
       "      <th>2018-01-05</th>\n",
       "      <td>0.353559</td>\n",
       "      <td>-0.168933</td>\n",
       "      <td>1.258638</td>\n",
       "      <td>0.077894</td>\n",
       "      <td>0.025200</td>\n",
       "      <td>-0.073441</td>\n",
       "      <td>0.495269</td>\n",
       "      <td>-0.001412</td>\n",
       "      <td>-0.017052</td>\n",
       "      <td>0.025200</td>\n",
       "    </tr>\n",
       "    <tr>\n",
       "      <th>2018-01-06</th>\n",
       "      <td>-0.095579</td>\n",
       "      <td>0.202080</td>\n",
       "      <td>-0.179190</td>\n",
       "      <td>0.148095</td>\n",
       "      <td>-0.233604</td>\n",
       "      <td>0.004343</td>\n",
       "      <td>-0.593050</td>\n",
       "      <td>0.088776</td>\n",
       "      <td>0.110781</td>\n",
       "      <td>-0.233604</td>\n",
       "    </tr>\n",
       "  </tbody>\n",
       "</table>\n",
       "</div>"
      ],
      "text/plain": [
       "                AAPL      MSFT      GOOG        FB      AMZN       SNE  \\\n",
       "Date                                                                     \n",
       "2018-01-02  0.066224  0.122337  1.084802 -0.145827 -0.051064  0.003038   \n",
       "2018-01-03  0.008380  0.086957 -0.550053  0.274202 -0.226921  0.154685   \n",
       "2018-01-04 -0.251489  0.042723  0.584238 -0.177797  0.478183  0.043022   \n",
       "2018-01-05  0.353559 -0.168933  1.258638  0.077894  0.025200 -0.073441   \n",
       "2018-01-06 -0.095579  0.202080 -0.179190  0.148095 -0.233604  0.004343   \n",
       "\n",
       "                 AMD      TWTR      UBER      AMZN  \n",
       "Date                                                \n",
       "2018-01-02  0.044040 -0.071155 -0.177648 -0.051064  \n",
       "2018-01-03  0.090801 -0.138784  0.182390 -0.226921  \n",
       "2018-01-04  0.001242  0.412844 -0.050648  0.478183  \n",
       "2018-01-05  0.495269 -0.001412 -0.017052  0.025200  \n",
       "2018-01-06 -0.593050  0.088776  0.110781 -0.233604  "
      ]
     },
     "execution_count": 3,
     "metadata": {},
     "output_type": "execute_result"
    }
   ],
   "source": [
    "# Calculate daily returns\n",
    "portfolio_a_returns = portfolio_a.pct_change().dropna()\n",
    "portfolio_b_returns = portfolio_b.pct_change().dropna()\n",
    "\n",
    "# Concat returns into one DataFrame\n",
    "all_portfolios_returns = pd.concat([portfolio_a_returns, portfolio_b_returns], axis='columns', join='inner')\n",
    "all_portfolios_returns.head()"
   ]
  },
  {
   "cell_type": "code",
   "execution_count": 5,
   "metadata": {},
   "outputs": [
    {
     "data": {
      "text/plain": [
       "AAPL    1.477114\n",
       "MSFT    1.350156\n",
       "GOOG    4.936858\n",
       "FB      1.740939\n",
       "AMZN    1.846514\n",
       "SNE     0.972066\n",
       "AMD     4.652215\n",
       "TWTR    1.977590\n",
       "UBER    0.364985\n",
       "AMZN    1.846514\n",
       "dtype: float64"
      ]
     },
     "execution_count": 5,
     "metadata": {},
     "output_type": "execute_result"
    }
   ],
   "source": [
    "# Calculate Sharpe Ratio\n",
    "sharpe_ratios = (all_portfolios_returns.mean() * 252) / (all_portfolios_returns.std() * np.sqrt(252))\n",
    "sharpe_ratios"
   ]
  },
  {
   "cell_type": "markdown",
   "metadata": {},
   "source": [
    "### Plot sharpe ratios"
   ]
  },
  {
   "cell_type": "code",
   "execution_count": 6,
   "metadata": {},
   "outputs": [
    {
     "data": {
      "text/plain": [
       "<matplotlib.axes._subplots.AxesSubplot at 0x11f0272e8>"
      ]
     },
     "execution_count": 6,
     "metadata": {},
     "output_type": "execute_result"
    },
    {
     "data": {
      "image/png": "[encoded data removed]",
      "text/plain": [
       "<Figure size 432x288 with 1 Axes>"
      ]
     },
     "metadata": {
      "needs_background": "light"
     },
     "output_type": "display_data"
    }
   ],
   "source": [
    "# Plot sharpe ratios\n",
    "sharpe_ratios.plot(kind=\"bar\", title=\"Sharpe Ratios\")"
   ]
  },
  {
   "cell_type": "code",
   "execution_count": 10,
   "metadata": {},
   "outputs": [
    {
     "data": {
      "text/plain": [
       "99"
      ]
     },
     "execution_count": 10,
     "metadata": {},
     "output_type": "execute_result"
    }
   ],
   "source": [
    "all_portfolios_returns[\"MSFT\"].count()"
   ]
  },
  {
   "cell_type": "code",
   "execution_count": null,
   "metadata": {},
   "outputs": [],
   "source": []
  }
 ],
 "metadata": {
  "kernelspec": {
   "display_name": "Python 3",
   "language": "python",
   "name": "python3"
  },
  "language_info": {
   "codemirror_mode": {
    "name": "ipython",
    "version": 3
   },
   "file_extension": ".py",
   "mimetype": "text/x-python",
   "name": "python",
   "nbconvert_exporter": "python",
   "pygments_lexer": "ipython3",
   "version": "3.7.1"
  }
 },
 "nbformat": 4,
 "nbformat_minor": 2
}
